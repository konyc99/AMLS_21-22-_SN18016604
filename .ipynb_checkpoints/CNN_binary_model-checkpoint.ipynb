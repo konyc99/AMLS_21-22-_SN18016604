{
 "cells": [
  {
   "cell_type": "code",
   "execution_count": 3,
   "id": "557618de",
   "metadata": {},
   "outputs": [],
   "source": [
    "from tensorflow.keras.models import Sequential\n",
    "from tensorflow.keras.layers import Dense, Activation,Conv2D, Flatten, Dropout, MaxPooling2D, BatchNormalization\n",
    "from tensorflow.keras.preprocessing.image import ImageDataGenerator\n",
    "from tensorflow.keras import regularizers, optimizers\n",
    "\n",
    "import numpy as np\n",
    "import matplotlib.pyplot as plt\n",
    "import pandas as pd"
   ]
  },
  {
   "cell_type": "code",
   "execution_count": 21,
   "id": "577d0951",
   "metadata": {},
   "outputs": [],
   "source": [
    "#Dataframe labels creation form the CSV files for both test and train sets\n",
    "\n",
    "df=pd.read_csv('dataset/image/label_binary.csv',dtype=str)\n",
    "df_test=pd.read_csv('dataset/test/label_binary.csv',dtype=str)"
   ]
  },
  {
   "cell_type": "code",
   "execution_count": 22,
   "id": "83583b82",
   "metadata": {},
   "outputs": [
    {
     "name": "stdout",
     "output_type": "stream",
     "text": [
      "Found 2392 validated image filenames belonging to 2 classes.\n",
      "Found 598 validated image filenames belonging to 2 classes.\n",
      "Found 200 validated image filenames.\n"
     ]
    }
   ],
   "source": [
    "#Image Data generator settings - these are used to generate image data\n",
    "#for each train test and eval set later\n",
    "datagen=ImageDataGenerator(rescale=1./255.,validation_split=0.20)\n",
    "\n",
    "#This function extracts the image data from the images and labels\n",
    "#them correctly according to then name and type specified in df\n",
    "#    dataframe - pandas DataFrame containing filenames and labels in csv format\n",
    "#    directory - where the images are saved/stored\n",
    "#    x_col - column name with image names/ can be index if images are just numbered 1,2,3...\n",
    "#    y_col - column name with labels\n",
    "#    subset - training/validation type of data, split determined above in datagen\n",
    "#    target size - images are downsized to (256,256) for faster traning\n",
    "#    color_mode - greyscale since we work with single channel images\n",
    "\n",
    "train_generator=datagen.flow_from_dataframe(\n",
    "dataframe=df,\n",
    "directory=\"dataset/image/\",\n",
    "x_col=\"file_name\",\n",
    "y_col=\"label\",\n",
    "subset=\"training\",\n",
    "batch_size=30,\n",
    "seed=67,\n",
    "shuffle=True,\n",
    "#classes= ['No Tumor','Tumor'],\n",
    "class_mode=\"categorical\",\n",
    "target_size=(256,256),\n",
    "color_mode = \"grayscale\")\n",
    "\n",
    "validation_generator=datagen.flow_from_dataframe(\n",
    "dataframe=df,\n",
    "directory=\"dataset/image/\",\n",
    "x_col=\"file_name\",\n",
    "y_col=\"label\",\n",
    "subset=\"validation\",\n",
    "batch_size=30,\n",
    "seed=67,\n",
    "shuffle=True,\n",
    "class_mode=\"categorical\",\n",
    "#classes= ['No Tumor','Tumor'],\n",
    "target_size=(256,256),\n",
    "color_mode = \"grayscale\")\n",
    "\n",
    "#separate datagen created for the test unseen data\n",
    "datagen=ImageDataGenerator(rescale=1./255.)\n",
    "\n",
    "test=datagen.flow_from_dataframe(\n",
    "dataframe=df_test,\n",
    "directory=\"dataset/test/\",\n",
    "x_col=\"file_name\",\n",
    "y_col=None,\n",
    "batch_size=30,\n",
    "seed=67,\n",
    "shuffle=False,\n",
    "class_mode=None,\n",
    "#classes= ['No Tumor','Tumor'],\n",
    "target_size=(256,256),\n",
    "color_mode = \"grayscale\" )"
   ]
  },
  {
   "cell_type": "code",
   "execution_count": 6,
   "id": "0d729955",
   "metadata": {},
   "outputs": [
    {
     "name": "stdout",
     "output_type": "stream",
     "text": [
      "Model: \"sequential\"\n",
      "_________________________________________________________________\n",
      "Layer (type)                 Output Shape              Param #   \n",
      "=================================================================\n",
      "conv2d (Conv2D)              (None, 256, 256, 32)      320       \n",
      "_________________________________________________________________\n",
      "activation (Activation)      (None, 256, 256, 32)      0         \n",
      "_________________________________________________________________\n",
      "max_pooling2d (MaxPooling2D) (None, 128, 128, 32)      0         \n",
      "_________________________________________________________________\n",
      "dropout (Dropout)            (None, 128, 128, 32)      0         \n",
      "_________________________________________________________________\n",
      "conv2d_1 (Conv2D)            (None, 126, 126, 64)      18496     \n",
      "_________________________________________________________________\n",
      "activation_1 (Activation)    (None, 126, 126, 64)      0         \n",
      "_________________________________________________________________\n",
      "max_pooling2d_1 (MaxPooling2 (None, 63, 63, 64)        0         \n",
      "_________________________________________________________________\n",
      "dropout_1 (Dropout)          (None, 63, 63, 64)        0         \n",
      "_________________________________________________________________\n",
      "flatten (Flatten)            (None, 254016)            0         \n",
      "_________________________________________________________________\n",
      "dense (Dense)                (None, 256)               65028352  \n",
      "_________________________________________________________________\n",
      "activation_2 (Activation)    (None, 256)               0         \n",
      "_________________________________________________________________\n",
      "dropout_2 (Dropout)          (None, 256)               0         \n",
      "_________________________________________________________________\n",
      "dense_1 (Dense)              (None, 2)                 514       \n",
      "=================================================================\n",
      "Total params: 65,047,682\n",
      "Trainable params: 65,047,682\n",
      "Non-trainable params: 0\n",
      "_________________________________________________________________\n"
     ]
    }
   ],
   "source": [
    "model = Sequential()\n",
    "model.add(Conv2D(32, (3, 3), padding='same',\n",
    "                 input_shape=(256,256,1)))\n",
    "model.add(Activation('relu'))\n",
    "model.add(MaxPooling2D(pool_size=(2, 2)))\n",
    "model.add(Dropout(0.25))\n",
    "\n",
    "model.add(Conv2D(64, (3, 3)))\n",
    "model.add(Activation('relu'))\n",
    "model.add(MaxPooling2D(pool_size=(2, 2)))\n",
    "model.add(Dropout(0.25))\n",
    "\n",
    "model.add(Flatten())\n",
    "model.add(Dense(256))\n",
    "model.add(Activation('relu'))\n",
    "model.add(Dropout(0.5))\n",
    "model.add(Dense(2, activation='softmax'))\n",
    "model.compile(loss='binary_crossentropy',\n",
    "              optimizer='rmsprop',\n",
    "              metrics=['accuracy'])\n",
    "model.summary()"
   ]
  },
  {
   "cell_type": "code",
   "execution_count": 7,
   "id": "0d2278b3",
   "metadata": {
    "scrolled": true
   },
   "outputs": [
    {
     "name": "stdout",
     "output_type": "stream",
     "text": [
      "Epoch 1/15\n",
      "80/80 [==============================] - 93s 1s/step - loss: 0.9791 - accuracy: 0.8365 - val_loss: 0.3539 - val_accuracy: 0.8612\n",
      "Epoch 2/15\n",
      "80/80 [==============================] - 90s 1s/step - loss: 0.3362 - accuracy: 0.8566 - val_loss: 0.2675 - val_accuracy: 0.8696\n",
      "Epoch 3/15\n",
      "80/80 [==============================] - 92s 1s/step - loss: 0.2484 - accuracy: 0.8796 - val_loss: 0.2010 - val_accuracy: 0.9147\n",
      "Epoch 4/15\n",
      "80/80 [==============================] - 91s 1s/step - loss: 0.2210 - accuracy: 0.8926 - val_loss: 0.1808 - val_accuracy: 0.9365\n",
      "Epoch 5/15\n",
      "80/80 [==============================] - 92s 1s/step - loss: 0.1825 - accuracy: 0.9197 - val_loss: 0.1628 - val_accuracy: 0.9465\n",
      "Epoch 6/15\n",
      "80/80 [==============================] - 91s 1s/step - loss: 0.1503 - accuracy: 0.9402 - val_loss: 0.1451 - val_accuracy: 0.9415\n",
      "Epoch 7/15\n",
      "80/80 [==============================] - 91s 1s/step - loss: 0.1221 - accuracy: 0.9515 - val_loss: 0.1232 - val_accuracy: 0.9548\n",
      "Epoch 8/15\n",
      "80/80 [==============================] - 91s 1s/step - loss: 0.0986 - accuracy: 0.9645 - val_loss: 0.1416 - val_accuracy: 0.9482\n",
      "Epoch 9/15\n",
      "80/80 [==============================] - 91s 1s/step - loss: 0.0783 - accuracy: 0.9753 - val_loss: 0.1210 - val_accuracy: 0.9565\n",
      "Epoch 10/15\n",
      "80/80 [==============================] - 87s 1s/step - loss: 0.0650 - accuracy: 0.9770 - val_loss: 0.1333 - val_accuracy: 0.9615\n",
      "Epoch 11/15\n",
      "80/80 [==============================] - 87s 1s/step - loss: 0.0417 - accuracy: 0.9854 - val_loss: 0.1558 - val_accuracy: 0.9565\n",
      "Epoch 12/15\n",
      "80/80 [==============================] - 87s 1s/step - loss: 0.0439 - accuracy: 0.9829 - val_loss: 0.1624 - val_accuracy: 0.9699\n",
      "Epoch 13/15\n",
      "80/80 [==============================] - 88s 1s/step - loss: 0.0301 - accuracy: 0.9904 - val_loss: 0.1667 - val_accuracy: 0.9615\n",
      "Epoch 14/15\n",
      "80/80 [==============================] - 89s 1s/step - loss: 0.0382 - accuracy: 0.9870 - val_loss: 0.2204 - val_accuracy: 0.9649\n",
      "Epoch 15/15\n",
      "80/80 [==============================] - 88s 1s/step - loss: 0.0224 - accuracy: 0.9929 - val_loss: 0.1862 - val_accuracy: 0.9632\n"
     ]
    }
   ],
   "source": [
    "history = model.fit(\n",
    "        x=train_generator,\n",
    "        epochs=15,\n",
    "        validation_data=validation_generator,\n",
    "        validation_steps=None,\n",
    "        validation_freq=1,\n",
    "        max_queue_size=10,\n",
    "        workers=1,\n",
    "\n",
    ")\n",
    "\n",
    "model.save(\"dataset/model_try_binary.h5\",overwrite=True,include_optimizer=True) \n",
    "H=pd.DataFrame(history.history)\n",
    "H.to_csv(\"Binaryclass_his.csv\",index=False)"
   ]
  },
  {
   "cell_type": "code",
   "execution_count": 9,
   "id": "b20894de",
   "metadata": {},
   "outputs": [
    {
     "data": {
      "image/png": "[encoded data removed]",
      "text/plain": [
       "<Figure size 720x360 with 1 Axes>"
      ]
     },
     "metadata": {
      "needs_background": "light"
     },
     "output_type": "display_data"
    }
   ],
   "source": [
    "import pandas as pd\n",
    "import matplotlib.pyplot as plt\n",
    "\n",
    "Hist = pd.DataFrame(H).plot(figsize=(10,5))\n",
    "Hist.plot(figsize=(20,10))\n",
    "plt.grid()\n",
    "plt.legend(fontsize='xx-large')\n",
    "plt.show()"
   ]
  },
  {
   "cell_type": "code",
   "execution_count": 13,
   "id": "2abcd9ec",
   "metadata": {},
   "outputs": [
    {
     "data": {
      "text/html": [
       "<div>\n",
       "<style scoped>\n",
       "    .dataframe tbody tr th:only-of-type {\n",
       "        vertical-align: middle;\n",
       "    }\n",
       "\n",
       "    .dataframe tbody tr th {\n",
       "        vertical-align: top;\n",
       "    }\n",
       "\n",
       "    .dataframe thead th {\n",
       "        text-align: right;\n",
       "    }\n",
       "</style>\n",
       "<table border=\"1\" class=\"dataframe\">\n",
       "  <thead>\n",
       "    <tr style=\"text-align: right;\">\n",
       "      <th></th>\n",
       "      <th>loss</th>\n",
       "      <th>accuracy</th>\n",
       "      <th>val_loss</th>\n",
       "      <th>val_accuracy</th>\n",
       "    </tr>\n",
       "  </thead>\n",
       "  <tbody>\n",
       "    <tr>\n",
       "      <th>0</th>\n",
       "      <td>0.979135</td>\n",
       "      <td>0.836538</td>\n",
       "      <td>0.353852</td>\n",
       "      <td>0.861204</td>\n",
       "    </tr>\n",
       "    <tr>\n",
       "      <th>1</th>\n",
       "      <td>0.336229</td>\n",
       "      <td>0.856605</td>\n",
       "      <td>0.267532</td>\n",
       "      <td>0.869565</td>\n",
       "    </tr>\n",
       "    <tr>\n",
       "      <th>2</th>\n",
       "      <td>0.248396</td>\n",
       "      <td>0.879599</td>\n",
       "      <td>0.200999</td>\n",
       "      <td>0.914716</td>\n",
       "    </tr>\n",
       "    <tr>\n",
       "      <th>3</th>\n",
       "      <td>0.221038</td>\n",
       "      <td>0.892559</td>\n",
       "      <td>0.180839</td>\n",
       "      <td>0.936455</td>\n",
       "    </tr>\n",
       "    <tr>\n",
       "      <th>4</th>\n",
       "      <td>0.182461</td>\n",
       "      <td>0.919732</td>\n",
       "      <td>0.162823</td>\n",
       "      <td>0.946488</td>\n",
       "    </tr>\n",
       "    <tr>\n",
       "      <th>5</th>\n",
       "      <td>0.150343</td>\n",
       "      <td>0.940217</td>\n",
       "      <td>0.145111</td>\n",
       "      <td>0.941472</td>\n",
       "    </tr>\n",
       "    <tr>\n",
       "      <th>6</th>\n",
       "      <td>0.122060</td>\n",
       "      <td>0.951505</td>\n",
       "      <td>0.123165</td>\n",
       "      <td>0.954849</td>\n",
       "    </tr>\n",
       "    <tr>\n",
       "      <th>7</th>\n",
       "      <td>0.098624</td>\n",
       "      <td>0.964465</td>\n",
       "      <td>0.141639</td>\n",
       "      <td>0.948161</td>\n",
       "    </tr>\n",
       "    <tr>\n",
       "      <th>8</th>\n",
       "      <td>0.078260</td>\n",
       "      <td>0.975334</td>\n",
       "      <td>0.120991</td>\n",
       "      <td>0.956522</td>\n",
       "    </tr>\n",
       "    <tr>\n",
       "      <th>9</th>\n",
       "      <td>0.064965</td>\n",
       "      <td>0.977007</td>\n",
       "      <td>0.133269</td>\n",
       "      <td>0.961538</td>\n",
       "    </tr>\n",
       "    <tr>\n",
       "      <th>10</th>\n",
       "      <td>0.041703</td>\n",
       "      <td>0.985368</td>\n",
       "      <td>0.155825</td>\n",
       "      <td>0.956522</td>\n",
       "    </tr>\n",
       "    <tr>\n",
       "      <th>11</th>\n",
       "      <td>0.043883</td>\n",
       "      <td>0.982860</td>\n",
       "      <td>0.162353</td>\n",
       "      <td>0.969900</td>\n",
       "    </tr>\n",
       "    <tr>\n",
       "      <th>12</th>\n",
       "      <td>0.030084</td>\n",
       "      <td>0.990385</td>\n",
       "      <td>0.166656</td>\n",
       "      <td>0.961538</td>\n",
       "    </tr>\n",
       "    <tr>\n",
       "      <th>13</th>\n",
       "      <td>0.038172</td>\n",
       "      <td>0.987040</td>\n",
       "      <td>0.220418</td>\n",
       "      <td>0.964883</td>\n",
       "    </tr>\n",
       "    <tr>\n",
       "      <th>14</th>\n",
       "      <td>0.022401</td>\n",
       "      <td>0.992893</td>\n",
       "      <td>0.186245</td>\n",
       "      <td>0.963211</td>\n",
       "    </tr>\n",
       "  </tbody>\n",
       "</table>\n",
       "</div>"
      ],
      "text/plain": [
       "        loss  accuracy  val_loss  val_accuracy\n",
       "0   0.979135  0.836538  0.353852      0.861204\n",
       "1   0.336229  0.856605  0.267532      0.869565\n",
       "2   0.248396  0.879599  0.200999      0.914716\n",
       "3   0.221038  0.892559  0.180839      0.936455\n",
       "4   0.182461  0.919732  0.162823      0.946488\n",
       "5   0.150343  0.940217  0.145111      0.941472\n",
       "6   0.122060  0.951505  0.123165      0.954849\n",
       "7   0.098624  0.964465  0.141639      0.948161\n",
       "8   0.078260  0.975334  0.120991      0.956522\n",
       "9   0.064965  0.977007  0.133269      0.961538\n",
       "10  0.041703  0.985368  0.155825      0.956522\n",
       "11  0.043883  0.982860  0.162353      0.969900\n",
       "12  0.030084  0.990385  0.166656      0.961538\n",
       "13  0.038172  0.987040  0.220418      0.964883\n",
       "14  0.022401  0.992893  0.186245      0.963211"
      ]
     },
     "execution_count": 13,
     "metadata": {},
     "output_type": "execute_result"
    }
   ],
   "source": [
    "H"
   ]
  },
  {
   "cell_type": "code",
   "execution_count": 16,
   "id": "df272a3b",
   "metadata": {},
   "outputs": [
    {
     "name": "stdout",
     "output_type": "stream",
     "text": [
      "19/19 [==============================] - 4s 176ms/step - loss: 0.1949 - accuracy: 0.96142s - loss:\n"
     ]
    },
    {
     "data": {
      "text/plain": [
       "[0.19487886130809784, 0.961403489112854]"
      ]
     },
     "execution_count": 16,
     "metadata": {},
     "output_type": "execute_result"
    }
   ],
   "source": [
    "model.evaluate(\n",
    "    x=validation_generator,\n",
    "    steps = 19\n",
    ")"
   ]
  },
  {
   "cell_type": "code",
   "execution_count": 23,
   "id": "2c05bc9f",
   "metadata": {},
   "outputs": [
    {
     "name": "stdout",
     "output_type": "stream",
     "text": [
      "7/7 [==============================] - 1s 160ms/step\n",
      "predictions shape: (200, 2)\n"
     ]
    }
   ],
   "source": [
    "test_generator = test\n",
    "#predict results based on the model generated\n",
    "pred=model.predict(test_generator,verbose=1)\n",
    "print(\"predictions shape:\", pred.shape)\n",
    "\n",
    "predicted_class_indices=np.argmax(pred,axis=1)"
   ]
  },
  {
   "cell_type": "code",
   "execution_count": 55,
   "id": "f14fc9cf",
   "metadata": {},
   "outputs": [],
   "source": [
    "#labels and filenames have to be sorted now because of the shuffle function\n",
    "#used for the data generators\n",
    "labels = (train_generator.class_indices)\n",
    "labels = dict((a,b) for b,a in labels.items())\n",
    "predictions = [labels[i] for i in predicted_class_indices]\n",
    "filenames=test_generator.filenames\n",
    "results=pd.DataFrame({\"Filename\":filenames,\n",
    "                      \"Predictions\":predictions})"
   ]
  },
  {
   "cell_type": "code",
   "execution_count": 54,
   "id": "07b0b76f",
   "metadata": {},
   "outputs": [
    {
     "name": "stdout",
     "output_type": "stream",
     "text": [
      "Test accuracy on the 200 unseen data is  0.955 %\n"
     ]
    }
   ],
   "source": [
    "evals = results.Predictions == df_test.label\n",
    "print('Test accuracy on the 200 unseen data is ',np.count_nonzero(evals)/len(evals),'%')"
   ]
  },
  {
   "cell_type": "code",
   "execution_count": null,
   "id": "bd0a8948",
   "metadata": {},
   "outputs": [],
   "source": []
  }
 ],
 "metadata": {
  "kernelspec": {
   "display_name": "Python 3",
   "language": "python",
   "name": "python3"
  },
  "language_info": {
   "codemirror_mode": {
    "name": "ipython",
    "version": 3
   },
   "file_extension": ".py",
   "mimetype": "text/x-python",
   "name": "python",
   "nbconvert_exporter": "python",
   "pygments_lexer": "ipython3",
   "version": "3.6.13"
  }
 },
 "nbformat": 4,
 "nbformat_minor": 5
}
