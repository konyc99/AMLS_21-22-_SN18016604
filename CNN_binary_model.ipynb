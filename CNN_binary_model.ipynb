{
 "cells": [
  {
   "cell_type": "code",
   "execution_count": 4,
   "id": "557618de",
   "metadata": {},
   "outputs": [],
   "source": [
    "from tensorflow.keras.models import Sequential\n",
    "from tensorflow.keras.layers import Dense, Activation,Conv2D, Flatten, Dropout, MaxPooling2D, BatchNormalization\n",
    "from tensorflow.keras.preprocessing.image import ImageDataGenerator\n",
    "from tensorflow.keras import regularizers, optimizers\n",
    "import os\n",
    "import numpy as np\n",
    "import matplotlib.pyplot as plt\n",
    "import pandas as pd"
   ]
  },
  {
   "cell_type": "code",
   "execution_count": 5,
   "id": "577d0951",
   "metadata": {},
   "outputs": [],
   "source": [
    "df=pd.read_csv('dataset/image/label_binary.csv',dtype=str)\n",
    "df_test=pd.read_csv('dataset/test/label_test.csv',dtype=str)"
   ]
  },
  {
   "cell_type": "code",
   "execution_count": 6,
   "id": "83583b82",
   "metadata": {},
   "outputs": [
    {
     "name": "stdout",
     "output_type": "stream",
     "text": [
      "Found 2392 validated image filenames belonging to 2 classes.\n",
      "Found 598 validated image filenames belonging to 2 classes.\n",
      "Found 10 validated image filenames.\n"
     ]
    }
   ],
   "source": [
    "datagen=ImageDataGenerator(rescale=1./255.,validation_split=0.20)\n",
    "\n",
    "train_generator=datagen.flow_from_dataframe(\n",
    "dataframe=df,\n",
    "directory=\"dataset/image/\",\n",
    "x_col=\"file_name\",\n",
    "y_col=\"label\",\n",
    "subset=\"training\",\n",
    "batch_size=30,\n",
    "seed=67,\n",
    "shuffle=True,\n",
    "#classes= ['No Tumor','Tumor'],\n",
    "class_mode=\"categorical\",\n",
    "target_size=(256,256),\n",
    "color_mode = \"grayscale\")\n",
    "\n",
    "validation_generator=datagen.flow_from_dataframe(\n",
    "dataframe=df,\n",
    "directory=\"dataset/image/\",\n",
    "x_col=\"file_name\",\n",
    "y_col=\"label\",\n",
    "subset=\"validation\",\n",
    "batch_size=30,\n",
    "seed=67,\n",
    "shuffle=True,\n",
    "class_mode=\"categorical\",\n",
    "#classes= ['No Tumor','Tumor'],\n",
    "target_size=(256,256),\n",
    "color_mode = \"grayscale\")\n",
    "\n",
    "datagen=ImageDataGenerator(rescale=1./255.)\n",
    "\n",
    "test=datagen.flow_from_dataframe(\n",
    "dataframe=df_test,\n",
    "directory=\"dataset/test/\",\n",
    "x_col=\"file_name\",\n",
    "y_col=None,\n",
    "batch_size=30,\n",
    "seed=67,\n",
    "shuffle=False,\n",
    "class_mode=None,\n",
    "#classes= ['No Tumor','Tumor'],\n",
    "target_size=(256,256),\n",
    "color_mode = \"grayscale\" )"
   ]
  },
  {
   "cell_type": "code",
   "execution_count": 17,
   "id": "0d729955",
   "metadata": {},
   "outputs": [
    {
     "name": "stdout",
     "output_type": "stream",
     "text": [
      "Model: \"sequential_1\"\n",
      "_________________________________________________________________\n",
      "Layer (type)                 Output Shape              Param #   \n",
      "=================================================================\n",
      "conv2d_4 (Conv2D)            (None, 256, 256, 32)      320       \n",
      "_________________________________________________________________\n",
      "activation_5 (Activation)    (None, 256, 256, 32)      0         \n",
      "_________________________________________________________________\n",
      "max_pooling2d_2 (MaxPooling2 (None, 128, 128, 32)      0         \n",
      "_________________________________________________________________\n",
      "dropout_3 (Dropout)          (None, 128, 128, 32)      0         \n",
      "_________________________________________________________________\n",
      "conv2d_5 (Conv2D)            (None, 126, 126, 64)      18496     \n",
      "_________________________________________________________________\n",
      "activation_6 (Activation)    (None, 126, 126, 64)      0         \n",
      "_________________________________________________________________\n",
      "max_pooling2d_3 (MaxPooling2 (None, 63, 63, 64)        0         \n",
      "_________________________________________________________________\n",
      "dropout_4 (Dropout)          (None, 63, 63, 64)        0         \n",
      "_________________________________________________________________\n",
      "flatten_1 (Flatten)          (None, 254016)            0         \n",
      "_________________________________________________________________\n",
      "dense_2 (Dense)              (None, 256)               65028352  \n",
      "_________________________________________________________________\n",
      "activation_7 (Activation)    (None, 256)               0         \n",
      "_________________________________________________________________\n",
      "dropout_5 (Dropout)          (None, 256)               0         \n",
      "_________________________________________________________________\n",
      "dense_3 (Dense)              (None, 2)                 514       \n",
      "=================================================================\n",
      "Total params: 65,047,682\n",
      "Trainable params: 65,047,682\n",
      "Non-trainable params: 0\n",
      "_________________________________________________________________\n"
     ]
    }
   ],
   "source": [
    "model = Sequential()\n",
    "model.add(Conv2D(32, (3, 3), padding='same',\n",
    "                 input_shape=(256,256,1)))\n",
    "model.add(Activation('relu'))\n",
    "#model.add(Conv2D(32, (3, 3)))\n",
    "#model.add(Activation('relu'))\n",
    "model.add(MaxPooling2D(pool_size=(2, 2)))\n",
    "model.add(Dropout(0.25))\n",
    "\n",
    "#model.add(Conv2D(64, (3, 3), padding='same'))\n",
    "#model.add(Activation('relu'))\n",
    "model.add(Conv2D(64, (3, 3)))\n",
    "model.add(Activation('relu'))\n",
    "model.add(MaxPooling2D(pool_size=(2, 2)))\n",
    "model.add(Dropout(0.25))\n",
    "\n",
    "model.add(Flatten())\n",
    "model.add(Dense(256))\n",
    "model.add(Activation('relu'))\n",
    "model.add(Dropout(0.5))\n",
    "model.add(Dense(2, activation='softmax'))\n",
    "model.compile(loss='binary_crossentropy',\n",
    "              optimizer='rmsprop',\n",
    "              metrics=['accuracy'])\n",
    "model.summary()"
   ]
  },
  {
   "cell_type": "code",
   "execution_count": 20,
   "id": "0d2278b3",
   "metadata": {},
   "outputs": [
    {
     "name": "stdout",
     "output_type": "stream",
     "text": [
      "Epoch 1/10\n",
      "80/80 [==============================] - 123s 2s/step - loss: 0.2244 - accuracy: 0.9093 - val_loss: 0.1832 - val_accuracy: 0.9314\n",
      "Epoch 2/10\n",
      "80/80 [==============================] - 119s 1s/step - loss: 0.1819 - accuracy: 0.9239 - val_loss: 0.1733 - val_accuracy: 0.9331\n",
      "Epoch 3/10\n",
      "80/80 [==============================] - 119s 1s/step - loss: 0.1362 - accuracy: 0.9507 - val_loss: 0.2906 - val_accuracy: 0.9080\n",
      "Epoch 4/10\n",
      "80/80 [==============================] - 127s 2s/step - loss: 0.1152 - accuracy: 0.9624 - val_loss: 0.1331 - val_accuracy: 0.9482\n",
      "Epoch 5/10\n",
      "80/80 [==============================] - 123s 2s/step - loss: 0.0862 - accuracy: 0.9691 - val_loss: 0.2030 - val_accuracy: 0.9398\n",
      "Epoch 6/10\n",
      "80/80 [==============================] - 121s 2s/step - loss: 0.0666 - accuracy: 0.9770 - val_loss: 0.1328 - val_accuracy: 0.9565\n",
      "Epoch 7/10\n",
      "80/80 [==============================] - 121s 2s/step - loss: 0.0496 - accuracy: 0.9837 - val_loss: 0.1461 - val_accuracy: 0.9548\n",
      "Epoch 8/10\n",
      "80/80 [==============================] - 127s 2s/step - loss: 0.0338 - accuracy: 0.9895 - val_loss: 0.1680 - val_accuracy: 0.9548\n",
      "Epoch 9/10\n",
      "80/80 [==============================] - 116s 1s/step - loss: 0.0269 - accuracy: 0.9904 - val_loss: 0.2164 - val_accuracy: 0.9565\n",
      "Epoch 10/10\n",
      "80/80 [==============================] - 113s 1s/step - loss: 0.0238 - accuracy: 0.9946 - val_loss: 0.1893 - val_accuracy: 0.9532\n"
     ]
    }
   ],
   "source": [
    "history = model.fit(\n",
    "        x=train_generator,\n",
    "        epochs=10,\n",
    "        validation_data=validation_generator,\n",
    "        validation_steps=None,\n",
    "        validation_freq=1,\n",
    "        max_queue_size=10,\n",
    "        workers=1,\n",
    "\n",
    ")\n",
    "\n",
    "model.save(\"dataset/model_try_binary.h5\",overwrite=True,include_optimizer=True) "
   ]
  },
  {
   "cell_type": "code",
   "execution_count": 31,
   "id": "b20894de",
   "metadata": {},
   "outputs": [
    {
     "data": {
      "image/png": "[encoded data removed]",
      "text/plain": [
       "<Figure size 1440x720 with 1 Axes>"
      ]
     },
     "metadata": {
      "needs_background": "light"
     },
     "output_type": "display_data"
    }
   ],
   "source": [
    "import pandas as pd\n",
    "import matplotlib.pyplot as plt\n",
    "\n",
    "pd.DataFrame(history.history).plot(figsize=(20,10))\n",
    "plt.grid()\n",
    "plt.show()"
   ]
  },
  {
   "cell_type": "code",
   "execution_count": 19,
   "id": "df272a3b",
   "metadata": {},
   "outputs": [
    {
     "name": "stdout",
     "output_type": "stream",
     "text": [
      "15/15 [==============================] - 36s 656ms/step - loss: 0.2138 - accuracy: 0.9578\n"
     ]
    },
    {
     "data": {
      "text/plain": [
       "[0.2137860804796219, 0.9577777981758118]"
      ]
     },
     "execution_count": 19,
     "metadata": {},
     "output_type": "execute_result"
    }
   ],
   "source": [
    "model.evaluate(\n",
    "    x=validation_generator,\n",
    "    steps = 15\n",
    ")"
   ]
  },
  {
   "cell_type": "code",
   "execution_count": 13,
   "id": "2c05bc9f",
   "metadata": {},
   "outputs": [
    {
     "name": "stdout",
     "output_type": "stream",
     "text": [
      "1/1 [==============================] - 18s 18s/step\n",
      "predictions shape: (10, 2)\n"
     ]
    }
   ],
   "source": [
    "test_generator = test\n",
    "\n",
    "#test_generator.reset()\n",
    "pred=model.predict(test_generator,verbose=1)\n",
    "\n",
    "print(\"predictions shape:\", pred.shape)\n",
    "\n",
    "predicted_class_indices=np.argmax(pred,axis=1)"
   ]
  },
  {
   "cell_type": "code",
   "execution_count": 14,
   "id": "f14fc9cf",
   "metadata": {},
   "outputs": [],
   "source": [
    "labels = (train_generator.class_indices)\n",
    "labels = dict((v,k) for k,v in labels.items())\n",
    "predictions = [labels[k] for k in predicted_class_indices]\n"
   ]
  },
  {
   "cell_type": "code",
   "execution_count": 15,
   "id": "d690ca38",
   "metadata": {},
   "outputs": [
    {
     "name": "stdout",
     "output_type": "stream",
     "text": [
      "['IMAGE_2990.jpg', 'IMAGE_2991.jpg', 'IMAGE_2992.jpg', 'IMAGE_2993.jpg', 'IMAGE_2994.jpg', 'IMAGE_2995.jpg', 'IMAGE_2996.jpg', 'IMAGE_2997.jpg', 'IMAGE_2998.jpg', 'IMAGE_2999.jpg']\n",
      "10\n",
      "         Filename Predictions\n",
      "0  IMAGE_2990.jpg       tumor\n",
      "1  IMAGE_2991.jpg       tumor\n",
      "2  IMAGE_2992.jpg       tumor\n",
      "3  IMAGE_2993.jpg       tumor\n",
      "4  IMAGE_2994.jpg       tumor\n",
      "5  IMAGE_2995.jpg       tumor\n",
      "6  IMAGE_2996.jpg       tumor\n",
      "7  IMAGE_2997.jpg       tumor\n",
      "8  IMAGE_2998.jpg       tumor\n",
      "9  IMAGE_2999.jpg       tumor\n"
     ]
    }
   ],
   "source": [
    "\n",
    "filenames=test_generator.filenames\n",
    "filenames=filenames[:480]\n",
    "results=pd.DataFrame({\"Filename\":filenames,\n",
    "                      \"Predictions\":predictions})\n",
    "#results.to_csv(\"results.csv\",index=False)\n",
    "print(filenames)\n",
    "print(len(predictions))\n",
    "print(results)"
   ]
  },
  {
   "cell_type": "code",
   "execution_count": 14,
   "id": "07b0b76f",
   "metadata": {},
   "outputs": [
    {
     "ename": "SyntaxError",
     "evalue": "invalid syntax (<ipython-input-14-239ca439d2f1>, line 1)",
     "output_type": "error",
     "traceback": [
      "\u001b[1;36m  File \u001b[1;32m\"<ipython-input-14-239ca439d2f1>\"\u001b[1;36m, line \u001b[1;32m1\u001b[0m\n\u001b[1;33m    IMAGE_2990.jpg\ttumor\u001b[0m\n\u001b[1;37m                  \t    ^\u001b[0m\n\u001b[1;31mSyntaxError\u001b[0m\u001b[1;31m:\u001b[0m invalid syntax\n"
     ]
    }
   ],
   "source": [
    "IMAGE_2990.jpg\ttumor\n",
    "IMAGE_2991.jpg\ttumor\n",
    "IMAGE_2992.jpg\ttumor\n",
    "IMAGE_2993.jpg\ttumor\n",
    "IMAGE_2994.jpg\ttumor\n",
    "IMAGE_2995.jpg\tno_tumor\n",
    "IMAGE_2996.jpg\ttumor\n",
    "IMAGE_2997.jpg\ttumor\n",
    "IMAGE_2998.jpg\ttumor\n",
    "IMAGE_2999.jpg\ttumor\n",
    "\n"
   ]
  },
  {
   "cell_type": "code",
   "execution_count": null,
   "id": "bd0a8948",
   "metadata": {},
   "outputs": [],
   "source": []
  }
 ],
 "metadata": {
  "kernelspec": {
   "display_name": "Python 3",
   "language": "python",
   "name": "python3"
  },
  "language_info": {
   "codemirror_mode": {
    "name": "ipython",
    "version": 3
   },
   "file_extension": ".py",
   "mimetype": "text/x-python",
   "name": "python",
   "nbconvert_exporter": "python",
   "pygments_lexer": "ipython3",
   "version": "3.6.13"
  }
 },
 "nbformat": 4,
 "nbformat_minor": 5
}
