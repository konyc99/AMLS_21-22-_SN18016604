{
 "cells": [
  {
   "cell_type": "code",
   "execution_count": 1,
   "id": "557618de",
   "metadata": {},
   "outputs": [],
   "source": [
    "from tensorflow.keras.models import Sequential\n",
    "from tensorflow.keras.layers import Dense, Activation,Conv2D, Flatten, Dropout, MaxPooling2D, BatchNormalization\n",
    "from tensorflow.keras.preprocessing.image import ImageDataGenerator\n",
    "from tensorflow.keras import regularizers, optimizers\n",
    "import os\n",
    "import numpy as np\n",
    "import matplotlib.pyplot as plt\n",
    "import pandas as pd"
   ]
  },
  {
   "cell_type": "code",
   "execution_count": null,
   "id": "1cb1e508",
   "metadata": {},
   "outputs": [],
   "source": []
  },
  {
   "cell_type": "code",
   "execution_count": 6,
   "id": "8b5c798e",
   "metadata": {},
   "outputs": [],
   "source": [
    "df=pd.read_csv('dataset/image/label.csv',dtype=str)\n",
    "df_test=pd.read_csv('dataset/test/label_test2.csv',dtype=str)"
   ]
  },
  {
   "cell_type": "code",
   "execution_count": 7,
   "id": "20d6335a",
   "metadata": {},
   "outputs": [
    {
     "name": "stdout",
     "output_type": "stream",
     "text": [
      "Found 2392 validated image filenames belonging to 4 classes.\n",
      "Found 598 validated image filenames belonging to 4 classes.\n",
      "Found 10 validated image filenames.\n"
     ]
    }
   ],
   "source": [
    "datagen=ImageDataGenerator(rescale=1./255.,validation_split=0.20)\n",
    "train_generator=datagen.flow_from_dataframe(\n",
    "dataframe=df,\n",
    "directory=\"dataset/image/\",\n",
    "x_col=\"file_name\",\n",
    "y_col=\"label\",\n",
    "subset=\"training\",\n",
    "batch_size=30,\n",
    "seed=67,\n",
    "shuffle=True,\n",
    "#classes= ['No Tumor','Tumor'],\n",
    "class_mode=\"categorical\",\n",
    "target_size=(256,256),\n",
    "color_mode = \"grayscale\")\n",
    "\n",
    "validation_generator=datagen.flow_from_dataframe(\n",
    "dataframe=df,\n",
    "directory=\"dataset/image/\",\n",
    "x_col=\"file_name\",\n",
    "y_col=\"label\",\n",
    "subset=\"validation\",\n",
    "batch_size=30,\n",
    "seed=67,\n",
    "shuffle=True,\n",
    "class_mode=\"categorical\",\n",
    "#classes= ['No Tumor','Tumor'],\n",
    "target_size=(256,256),\n",
    "color_mode = \"grayscale\")\n",
    "\n",
    "datagen=ImageDataGenerator(rescale=1./255.)\n",
    "\n",
    "test=datagen.flow_from_dataframe(\n",
    "dataframe=df_test,\n",
    "directory=\"dataset/test/\",\n",
    "x_col=\"file_name\",\n",
    "y_col=None,\n",
    "batch_size=30,\n",
    "seed=67,\n",
    "shuffle=False,\n",
    "class_mode=None,\n",
    "#classes= ['No Tumor','Tumor'],\n",
    "target_size=(256,256),\n",
    "color_mode = \"grayscale\" )"
   ]
  },
  {
   "cell_type": "code",
   "execution_count": 8,
   "id": "5b5c0f3f",
   "metadata": {},
   "outputs": [
    {
     "name": "stdout",
     "output_type": "stream",
     "text": [
      "Model: \"sequential\"\n",
      "_________________________________________________________________\n",
      "Layer (type)                 Output Shape              Param #   \n",
      "=================================================================\n",
      "conv2d (Conv2D)              (None, 256, 256, 32)      320       \n",
      "_________________________________________________________________\n",
      "activation (Activation)      (None, 256, 256, 32)      0         \n",
      "_________________________________________________________________\n",
      "conv2d_1 (Conv2D)            (None, 254, 254, 32)      9248      \n",
      "_________________________________________________________________\n",
      "activation_1 (Activation)    (None, 254, 254, 32)      0         \n",
      "_________________________________________________________________\n",
      "max_pooling2d (MaxPooling2D) (None, 127, 127, 32)      0         \n",
      "_________________________________________________________________\n",
      "dropout (Dropout)            (None, 127, 127, 32)      0         \n",
      "_________________________________________________________________\n",
      "conv2d_2 (Conv2D)            (None, 127, 127, 64)      18496     \n",
      "_________________________________________________________________\n",
      "activation_2 (Activation)    (None, 127, 127, 64)      0         \n",
      "_________________________________________________________________\n",
      "conv2d_3 (Conv2D)            (None, 125, 125, 64)      36928     \n",
      "_________________________________________________________________\n",
      "activation_3 (Activation)    (None, 125, 125, 64)      0         \n",
      "_________________________________________________________________\n",
      "max_pooling2d_1 (MaxPooling2 (None, 62, 62, 64)        0         \n",
      "_________________________________________________________________\n",
      "dropout_1 (Dropout)          (None, 62, 62, 64)        0         \n",
      "_________________________________________________________________\n",
      "flatten (Flatten)            (None, 246016)            0         \n",
      "_________________________________________________________________\n",
      "dense (Dense)                (None, 512)               125960704 \n",
      "_________________________________________________________________\n",
      "activation_4 (Activation)    (None, 512)               0         \n",
      "_________________________________________________________________\n",
      "dropout_2 (Dropout)          (None, 512)               0         \n",
      "_________________________________________________________________\n",
      "dense_1 (Dense)              (None, 4)                 2052      \n",
      "=================================================================\n",
      "Total params: 126,027,748\n",
      "Trainable params: 126,027,748\n",
      "Non-trainable params: 0\n",
      "_________________________________________________________________\n"
     ]
    }
   ],
   "source": [
    "model = Sequential()\n",
    "model.add(Conv2D(32, (3, 3), padding='same',\n",
    "                 input_shape=(256,256,1)))\n",
    "model.add(Activation('relu'))\n",
    "model.add(Conv2D(32, (3, 3)))\n",
    "model.add(Activation('relu'))\n",
    "model.add(MaxPooling2D(pool_size=(2, 2)))\n",
    "model.add(Dropout(0.25))\n",
    "\n",
    "model.add(Conv2D(64, (3, 3), padding='same'))\n",
    "model.add(Activation('relu'))\n",
    "model.add(Conv2D(64, (3, 3)))\n",
    "model.add(Activation('relu'))\n",
    "model.add(MaxPooling2D(pool_size=(2, 2)))\n",
    "model.add(Dropout(0.25))\n",
    "\n",
    "model.add(Flatten())\n",
    "model.add(Dense(512))\n",
    "model.add(Activation('relu'))\n",
    "model.add(Dropout(0.5))\n",
    "model.add(Dense(4, activation='softmax'))\n",
    "model.compile(loss='binary_crossentropy',\n",
    "              optimizer='rmsprop',\n",
    "              metrics=['accuracy'])\n",
    "model.summary()"
   ]
  },
  {
   "cell_type": "code",
   "execution_count": 9,
   "id": "8c534129",
   "metadata": {},
   "outputs": [
    {
     "name": "stdout",
     "output_type": "stream",
     "text": [
      "Epoch 1/3\n",
      "80/80 [==============================] - 245s 3s/step - loss: 0.6392 - accuracy: 0.4661 - val_loss: 0.4052 - val_accuracy: 0.6639\n",
      "Epoch 2/3\n",
      "80/80 [==============================] - 239s 3s/step - loss: 0.3866 - accuracy: 0.6446 - val_loss: 0.3021 - val_accuracy: 0.7625\n",
      "Epoch 3/3\n",
      "80/80 [==============================] - 250s 3s/step - loss: 0.2767 - accuracy: 0.7646 - val_loss: 0.2784 - val_accuracy: 0.7508\n"
     ]
    }
   ],
   "source": [
    "history = model.fit(\n",
    "        x=train_generator,\n",
    "        epochs=3,\n",
    "        validation_data=validation_generator,\n",
    "        validation_steps=None,\n",
    "        validation_freq=1,\n",
    "        max_queue_size=10,\n",
    "        workers=1,\n",
    "\n",
    ")\n",
    "\n",
    "model.save(\"dataset/model_try.h5\",overwrite=True,include_optimizer=True)  # always save your weights after training or during training\n"
   ]
  },
  {
   "cell_type": "code",
   "execution_count": 11,
   "id": "cc7a2dae",
   "metadata": {},
   "outputs": [
    {
     "name": "stdout",
     "output_type": "stream",
     "text": [
      "15/15 [==============================] - 24s 428ms/step - loss: 0.2737 - accuracy: 0.7644\n"
     ]
    },
    {
     "data": {
      "text/plain": [
       "[0.2736800014972687, 0.7644444704055786]"
      ]
     },
     "execution_count": 11,
     "metadata": {},
     "output_type": "execute_result"
    }
   ],
   "source": [
    "model.evaluate(\n",
    "    x=validation_generator,\n",
    "    steps = 15\n",
    ")"
   ]
  },
  {
   "cell_type": "code",
   "execution_count": 12,
   "id": "8a26964a",
   "metadata": {},
   "outputs": [
    {
     "name": "stdout",
     "output_type": "stream",
     "text": [
      "1/1 [==============================] - 18s 18s/step\n",
      "predictions shape: (10, 4)\n"
     ]
    }
   ],
   "source": [
    "test_generator = test\n",
    "\n",
    "#test_generator.reset()\n",
    "pred=model.predict(test_generator,verbose=1)\n",
    "\n",
    "print(\"predictions shape:\", pred.shape)\n",
    "\n"
   ]
  },
  {
   "cell_type": "code",
   "execution_count": 13,
   "id": "f91cdb38",
   "metadata": {},
   "outputs": [
    {
     "name": "stdout",
     "output_type": "stream",
     "text": [
      "[[5.1385306e-02 9.1610241e-01 1.4450815e-02 1.8061452e-02]\n",
      " [4.9799317e-03 3.1850490e-04 2.6071188e-04 9.9444085e-01]\n",
      " [1.4380524e-01 1.7697977e-02 2.2148413e-03 8.3628190e-01]\n",
      " [1.9654750e-03 6.9268793e-03 1.5272343e-03 9.8958045e-01]\n",
      " [9.9956542e-01 3.5270167e-04 9.5629157e-06 7.2292176e-05]\n",
      " [3.4872856e-02 9.6982438e-03 9.5538437e-01 4.4560529e-05]\n",
      " [4.2228234e-01 5.7291472e-01 3.4959288e-03 1.3069680e-03]\n",
      " [9.9161774e-01 6.6864174e-03 9.6019864e-04 7.3565601e-04]\n",
      " [2.7269572e-01 7.6081678e-02 2.9277008e-02 6.2194556e-01]\n",
      " [3.6320272e-01 5.1332551e-01 1.6245224e-02 1.0722654e-01]]\n"
     ]
    }
   ],
   "source": [
    "print(pred)\n",
    "predicted_class_indices=np.argmax(pred,axis=1)"
   ]
  },
  {
   "cell_type": "code",
   "execution_count": 14,
   "id": "158c01c2",
   "metadata": {},
   "outputs": [
    {
     "name": "stdout",
     "output_type": "stream",
     "text": [
      "[[5.1385306e-02 9.1610241e-01 1.4450815e-02 1.8061452e-02]\n",
      " [4.9799317e-03 3.1850490e-04 2.6071188e-04 9.9444085e-01]\n",
      " [1.4380524e-01 1.7697977e-02 2.2148413e-03 8.3628190e-01]\n",
      " [1.9654750e-03 6.9268793e-03 1.5272343e-03 9.8958045e-01]\n",
      " [9.9956542e-01 3.5270167e-04 9.5629157e-06 7.2292176e-05]\n",
      " [3.4872856e-02 9.6982438e-03 9.5538437e-01 4.4560529e-05]\n",
      " [4.2228234e-01 5.7291472e-01 3.4959288e-03 1.3069680e-03]\n",
      " [9.9161774e-01 6.6864174e-03 9.6019864e-04 7.3565601e-04]\n",
      " [2.7269572e-01 7.6081678e-02 2.9277008e-02 6.2194556e-01]\n",
      " [3.6320272e-01 5.1332551e-01 1.6245224e-02 1.0722654e-01]]\n"
     ]
    }
   ],
   "source": [
    "print(pred)"
   ]
  },
  {
   "cell_type": "code",
   "execution_count": 15,
   "id": "1758cedf",
   "metadata": {},
   "outputs": [],
   "source": [
    "labels = (train_generator.class_indices)\n",
    "labels = dict((v,k) for k,v in labels.items())\n",
    "predictions = [labels[k] for k in predicted_class_indices]\n"
   ]
  },
  {
   "cell_type": "code",
   "execution_count": 16,
   "id": "b0950eac",
   "metadata": {},
   "outputs": [
    {
     "name": "stdout",
     "output_type": "stream",
     "text": [
      "['IMAGE_2990.jpg', 'IMAGE_2991.jpg', 'IMAGE_2992.jpg', 'IMAGE_2993.jpg', 'IMAGE_2994.jpg', 'IMAGE_2995.jpg', 'IMAGE_2996.jpg', 'IMAGE_2997.jpg', 'IMAGE_2998.jpg', 'IMAGE_2999.jpg']\n",
      "10\n",
      "         Filename       Predictions\n",
      "0  IMAGE_2990.jpg  meningioma_tumor\n",
      "1  IMAGE_2991.jpg   pituitary_tumor\n",
      "2  IMAGE_2992.jpg   pituitary_tumor\n",
      "3  IMAGE_2993.jpg   pituitary_tumor\n",
      "4  IMAGE_2994.jpg      glioma_tumor\n",
      "5  IMAGE_2995.jpg          no_tumor\n",
      "6  IMAGE_2996.jpg  meningioma_tumor\n",
      "7  IMAGE_2997.jpg      glioma_tumor\n",
      "8  IMAGE_2998.jpg   pituitary_tumor\n",
      "9  IMAGE_2999.jpg  meningioma_tumor\n"
     ]
    }
   ],
   "source": [
    "\n",
    "filenames=test_generator.filenames\n",
    "filenames=filenames[:480]\n",
    "results=pd.DataFrame({\"Filename\":filenames,\n",
    "                      \"Predictions\":predictions})\n",
    "#results.to_csv(\"results.csv\",index=False)\n",
    "print(filenames)\n",
    "print(len(predictions))\n",
    "print(results)"
   ]
  },
  {
   "cell_type": "code",
   "execution_count": 22,
   "id": "215f69c8",
   "metadata": {},
   "outputs": [
    {
     "data": {
      "image/png": "[encoded data removed]",
      "text/plain": [
       "<Figure size 432x288 with 1 Axes>"
      ]
     },
     "metadata": {
      "needs_background": "light"
     },
     "output_type": "display_data"
    }
   ],
   "source": [
    "import matplotlib as mpl\n",
    "import matplotlib.pyplot as plt\n",
    "from IPython.display import display\n",
    "\n",
    "\n",
    "import pandas as pd\n",
    "import numpy as np\n",
    "\n",
    "from PIL import Image\n",
    "\n",
    "def get_img(filename, directory=\"dataset/test/\"):\n",
    "    \n",
    "    file_path = os.path.join(directory, filename)\n",
    "    img = Image.open(file_path)\n",
    "    return np.array(img)\n",
    "\n",
    "plt.imshow(get_img(filenames[5]))\n",
    "plt.show()"
   ]
  },
  {
   "cell_type": "code",
   "execution_count": null,
   "id": "98d19b1c",
   "metadata": {},
   "outputs": [],
   "source": [
    "IMAGE_2990.jpg\tmeningioma_tumor\n",
    "IMAGE_2991.jpg\tpituitary_tumor\n",
    "IMAGE_2992.jpg\tpituitary_tumor\n",
    "IMAGE_2993.jpg\tpituitary_tumor\n",
    "IMAGE_2994.jpg\tglioma_tumor\n",
    "IMAGE_2995.jpg\tno_tumor\n",
    "IMAGE_2996.jpg\tmeningioma_tumor\n",
    "IMAGE_2997.jpg\tglioma_tumor\n",
    "IMAGE_2998.jpg\tglioma_tumor\n",
    "IMAGE_2999.jpg\tpituitary_tumor\n"
   ]
  }
 ],
 "metadata": {
  "kernelspec": {
   "display_name": "Python 3",
   "language": "python",
   "name": "python3"
  },
  "language_info": {
   "codemirror_mode": {
    "name": "ipython",
    "version": 3
   },
   "file_extension": ".py",
   "mimetype": "text/x-python",
   "name": "python",
   "nbconvert_exporter": "python",
   "pygments_lexer": "ipython3",
   "version": "3.6.13"
  }
 },
 "nbformat": 4,
 "nbformat_minor": 5
}
