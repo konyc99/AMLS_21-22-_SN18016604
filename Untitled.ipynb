{
 "cells": [
  {
   "cell_type": "code",
   "execution_count": 2,
   "id": "557618de",
   "metadata": {},
   "outputs": [],
   "source": [
    "from tensorflow.keras.models import Sequential\n",
    "from tensorflow.keras.layers import Dense, Activation,Conv2D, Flatten, Dropout, MaxPooling2D, BatchNormalization\n",
    "from tensorflow.keras.preprocessing.image import ImageDataGenerator\n",
    "from tensorflow.keras import regularizers, optimizers\n",
    "import os\n",
    "import numpy as np\n",
    "import matplotlib.pyplot as plt\n",
    "import pandas as pd"
   ]
  },
  {
   "cell_type": "code",
   "execution_count": null,
   "id": "1cb1e508",
   "metadata": {},
   "outputs": [],
   "source": []
  },
  {
   "cell_type": "code",
   "execution_count": 3,
   "id": "577d0951",
   "metadata": {},
   "outputs": [],
   "source": [
    "df=pd.read_csv('dataset/image/label_binary.csv',dtype=str)\n",
    "df_test=pd.read_csv('dataset/test/label_test.csv',dtype=str)"
   ]
  },
  {
   "cell_type": "code",
   "execution_count": 5,
   "id": "83583b82",
   "metadata": {},
   "outputs": [
    {
     "name": "stdout",
     "output_type": "stream",
     "text": [
      "Found 2392 validated image filenames belonging to 2 classes.\n",
      "Found 598 validated image filenames belonging to 2 classes.\n",
      "Found 10 validated image filenames.\n"
     ]
    }
   ],
   "source": [
    "datagen=ImageDataGenerator(rescale=1./255.,validation_split=0.20)\n",
    "train_generator=datagen.flow_from_dataframe(\n",
    "dataframe=df,\n",
    "directory=\"dataset/image/\",\n",
    "x_col=\"file_name\",\n",
    "y_col=\"label\",\n",
    "subset=\"training\",\n",
    "batch_size=30,\n",
    "seed=67,\n",
    "shuffle=True,\n",
    "#classes= ['No Tumor','Tumor'],\n",
    "class_mode=\"categorical\",\n",
    "target_size=(256,256),\n",
    "color_mode = \"grayscale\")\n",
    "\n",
    "validation_generator=datagen.flow_from_dataframe(\n",
    "dataframe=df,\n",
    "directory=\"dataset/image/\",\n",
    "x_col=\"file_name\",\n",
    "y_col=\"label\",\n",
    "subset=\"validation\",\n",
    "batch_size=30,\n",
    "seed=67,\n",
    "shuffle=True,\n",
    "class_mode=\"categorical\",\n",
    "#classes= ['No Tumor','Tumor'],\n",
    "target_size=(256,256),\n",
    "color_mode = \"grayscale\")\n",
    "\n",
    "datagen=ImageDataGenerator(rescale=1./255.)\n",
    "\n",
    "test=datagen.flow_from_dataframe(\n",
    "dataframe=df_test,\n",
    "directory=\"dataset/test/\",\n",
    "x_col=\"file_name\",\n",
    "y_col=None,\n",
    "batch_size=30,\n",
    "seed=67,\n",
    "shuffle=False,\n",
    "class_mode=None,\n",
    "#classes= ['No Tumor','Tumor'],\n",
    "target_size=(256,256),\n",
    "color_mode = \"grayscale\" )"
   ]
  },
  {
   "cell_type": "code",
   "execution_count": 6,
   "id": "0d729955",
   "metadata": {},
   "outputs": [
    {
     "name": "stdout",
     "output_type": "stream",
     "text": [
      "Model: \"sequential\"\n",
      "_________________________________________________________________\n",
      "Layer (type)                 Output Shape              Param #   \n",
      "=================================================================\n",
      "conv2d (Conv2D)              (None, 256, 256, 32)      320       \n",
      "_________________________________________________________________\n",
      "activation (Activation)      (None, 256, 256, 32)      0         \n",
      "_________________________________________________________________\n",
      "conv2d_1 (Conv2D)            (None, 254, 254, 32)      9248      \n",
      "_________________________________________________________________\n",
      "activation_1 (Activation)    (None, 254, 254, 32)      0         \n",
      "_________________________________________________________________\n",
      "max_pooling2d (MaxPooling2D) (None, 127, 127, 32)      0         \n",
      "_________________________________________________________________\n",
      "dropout (Dropout)            (None, 127, 127, 32)      0         \n",
      "_________________________________________________________________\n",
      "conv2d_2 (Conv2D)            (None, 127, 127, 64)      18496     \n",
      "_________________________________________________________________\n",
      "activation_2 (Activation)    (None, 127, 127, 64)      0         \n",
      "_________________________________________________________________\n",
      "conv2d_3 (Conv2D)            (None, 125, 125, 64)      36928     \n",
      "_________________________________________________________________\n",
      "activation_3 (Activation)    (None, 125, 125, 64)      0         \n",
      "_________________________________________________________________\n",
      "max_pooling2d_1 (MaxPooling2 (None, 62, 62, 64)        0         \n",
      "_________________________________________________________________\n",
      "dropout_1 (Dropout)          (None, 62, 62, 64)        0         \n",
      "_________________________________________________________________\n",
      "flatten (Flatten)            (None, 246016)            0         \n",
      "_________________________________________________________________\n",
      "dense (Dense)                (None, 512)               125960704 \n",
      "_________________________________________________________________\n",
      "activation_4 (Activation)    (None, 512)               0         \n",
      "_________________________________________________________________\n",
      "dropout_2 (Dropout)          (None, 512)               0         \n",
      "_________________________________________________________________\n",
      "dense_1 (Dense)              (None, 2)                 1026      \n",
      "=================================================================\n",
      "Total params: 126,026,722\n",
      "Trainable params: 126,026,722\n",
      "Non-trainable params: 0\n",
      "_________________________________________________________________\n"
     ]
    }
   ],
   "source": [
    "model = Sequential()\n",
    "model.add(Conv2D(32, (3, 3), padding='same',\n",
    "                 input_shape=(256,256,1)))\n",
    "model.add(Activation('relu'))\n",
    "model.add(Conv2D(32, (3, 3)))\n",
    "model.add(Activation('relu'))\n",
    "model.add(MaxPooling2D(pool_size=(2, 2)))\n",
    "model.add(Dropout(0.25))\n",
    "\n",
    "model.add(Conv2D(64, (3, 3), padding='same'))\n",
    "model.add(Activation('relu'))\n",
    "model.add(Conv2D(64, (3, 3)))\n",
    "model.add(Activation('relu'))\n",
    "model.add(MaxPooling2D(pool_size=(2, 2)))\n",
    "model.add(Dropout(0.25))\n",
    "\n",
    "model.add(Flatten())\n",
    "model.add(Dense(512))\n",
    "model.add(Activation('relu'))\n",
    "model.add(Dropout(0.5))\n",
    "model.add(Dense(2, activation='softmax'))\n",
    "model.compile(loss='binary_crossentropy',\n",
    "              optimizer='rmsprop',\n",
    "              metrics=['accuracy'])\n",
    "model.summary()"
   ]
  },
  {
   "cell_type": "code",
   "execution_count": 7,
   "id": "0d2278b3",
   "metadata": {},
   "outputs": [
    {
     "name": "stdout",
     "output_type": "stream",
     "text": [
      "Epoch 1/3\n",
      "80/80 [==============================] - 258s 3s/step - loss: 0.6687 - accuracy: 0.8361 - val_loss: 0.4175 - val_accuracy: 0.8796\n",
      "Epoch 2/3\n",
      "80/80 [==============================] - 294s 4s/step - loss: 0.3628 - accuracy: 0.8658 - val_loss: 0.2309 - val_accuracy: 0.9030\n",
      "Epoch 3/3\n",
      "80/80 [==============================] - 300s 4s/step - loss: 0.2623 - accuracy: 0.8992 - val_loss: 0.2463 - val_accuracy: 0.9247\n"
     ]
    }
   ],
   "source": [
    "history = model.fit(\n",
    "        x=train_generator,\n",
    "        epochs=3,\n",
    "        validation_data=validation_generator,\n",
    "        validation_steps=None,\n",
    "        validation_freq=1,\n",
    "        max_queue_size=10,\n",
    "        workers=1,\n",
    "\n",
    ")\n",
    "\n",
    "model.save(\"dataset/model_try_binary.h5\",overwrite=True,include_optimizer=True)  # always save your weights after training or during training\n"
   ]
  },
  {
   "cell_type": "code",
   "execution_count": 8,
   "id": "df272a3b",
   "metadata": {},
   "outputs": [
    {
     "name": "stdout",
     "output_type": "stream",
     "text": [
      "15/15 [==============================] - 25s 441ms/step - loss: 0.2720 - accuracy: 0.9178\n"
     ]
    },
    {
     "data": {
      "text/plain": [
       "[0.27203550934791565, 0.9177777767181396]"
      ]
     },
     "execution_count": 8,
     "metadata": {},
     "output_type": "execute_result"
    }
   ],
   "source": [
    "model.evaluate(\n",
    "    x=validation_generator,\n",
    "    steps = 15\n",
    ")"
   ]
  },
  {
   "cell_type": "code",
   "execution_count": 9,
   "id": "2c05bc9f",
   "metadata": {},
   "outputs": [
    {
     "name": "stdout",
     "output_type": "stream",
     "text": [
      "1/1 [==============================] - 19s 19s/step\n",
      "predictions shape: (10, 2)\n"
     ]
    }
   ],
   "source": [
    "test_generator = test\n",
    "\n",
    "#test_generator.reset()\n",
    "pred=model.predict(test_generator,verbose=1)\n",
    "\n",
    "print(\"predictions shape:\", pred.shape)\n",
    "\n"
   ]
  },
  {
   "cell_type": "code",
   "execution_count": 10,
   "id": "7851e899",
   "metadata": {},
   "outputs": [
    {
     "name": "stdout",
     "output_type": "stream",
     "text": [
      "[[1.8710731e-01 8.1289268e-01]\n",
      " [7.4642805e-05 9.9992537e-01]\n",
      " [6.0580169e-06 9.9999392e-01]\n",
      " [1.6633185e-05 9.9998331e-01]\n",
      " [1.0392026e-06 9.9999893e-01]\n",
      " [8.0622566e-01 1.9377428e-01]\n",
      " [3.2129898e-07 9.9999964e-01]\n",
      " [8.4602098e-06 9.9999154e-01]\n",
      " [9.9800811e-05 9.9990022e-01]\n",
      " [4.9043472e-08 1.0000000e+00]]\n"
     ]
    }
   ],
   "source": [
    "print(pred)\n",
    "predicted_class_indices=np.argmax(pred,axis=1)"
   ]
  },
  {
   "cell_type": "code",
   "execution_count": 11,
   "id": "517932bf",
   "metadata": {},
   "outputs": [
    {
     "name": "stdout",
     "output_type": "stream",
     "text": [
      "[[1.8710731e-01 8.1289268e-01]\n",
      " [7.4642805e-05 9.9992537e-01]\n",
      " [6.0580169e-06 9.9999392e-01]\n",
      " [1.6633185e-05 9.9998331e-01]\n",
      " [1.0392026e-06 9.9999893e-01]\n",
      " [8.0622566e-01 1.9377428e-01]\n",
      " [3.2129898e-07 9.9999964e-01]\n",
      " [8.4602098e-06 9.9999154e-01]\n",
      " [9.9800811e-05 9.9990022e-01]\n",
      " [4.9043472e-08 1.0000000e+00]]\n"
     ]
    }
   ],
   "source": [
    "print(pred)"
   ]
  },
  {
   "cell_type": "code",
   "execution_count": 12,
   "id": "f14fc9cf",
   "metadata": {},
   "outputs": [],
   "source": [
    "labels = (train_generator.class_indices)\n",
    "labels = dict((v,k) for k,v in labels.items())\n",
    "predictions = [labels[k] for k in predicted_class_indices]\n"
   ]
  },
  {
   "cell_type": "code",
   "execution_count": 13,
   "id": "d690ca38",
   "metadata": {},
   "outputs": [
    {
     "name": "stdout",
     "output_type": "stream",
     "text": [
      "['IMAGE_2990.jpg', 'IMAGE_2991.jpg', 'IMAGE_2992.jpg', 'IMAGE_2993.jpg', 'IMAGE_2994.jpg', 'IMAGE_2995.jpg', 'IMAGE_2996.jpg', 'IMAGE_2997.jpg', 'IMAGE_2998.jpg', 'IMAGE_2999.jpg']\n",
      "10\n",
      "         Filename Predictions\n",
      "0  IMAGE_2990.jpg       tumor\n",
      "1  IMAGE_2991.jpg       tumor\n",
      "2  IMAGE_2992.jpg       tumor\n",
      "3  IMAGE_2993.jpg       tumor\n",
      "4  IMAGE_2994.jpg       tumor\n",
      "5  IMAGE_2995.jpg    no_tumor\n",
      "6  IMAGE_2996.jpg       tumor\n",
      "7  IMAGE_2997.jpg       tumor\n",
      "8  IMAGE_2998.jpg       tumor\n",
      "9  IMAGE_2999.jpg       tumor\n"
     ]
    }
   ],
   "source": [
    "\n",
    "filenames=test_generator.filenames\n",
    "filenames=filenames[:480]\n",
    "results=pd.DataFrame({\"Filename\":filenames,\n",
    "                      \"Predictions\":predictions})\n",
    "#results.to_csv(\"results.csv\",index=False)\n",
    "print(filenames)\n",
    "print(len(predictions))\n",
    "print(results)"
   ]
  },
  {
   "cell_type": "code",
   "execution_count": null,
   "id": "07b0b76f",
   "metadata": {},
   "outputs": [],
   "source": [
    "IMAGE_2990.jpg\ttumor\n",
    "IMAGE_2991.jpg\ttumor\n",
    "IMAGE_2992.jpg\ttumor\n",
    "IMAGE_2993.jpg\ttumor\n",
    "IMAGE_2994.jpg\ttumor\n",
    "IMAGE_2995.jpg\tno_tumor\n",
    "IMAGE_2996.jpg\ttumor\n",
    "IMAGE_2997.jpg\ttumor\n",
    "IMAGE_2998.jpg\ttumor\n",
    "IMAGE_2999.jpg\ttumor\n",
    "\n"
   ]
  }
 ],
 "metadata": {
  "kernelspec": {
   "display_name": "Python 3",
   "language": "python",
   "name": "python3"
  },
  "language_info": {
   "codemirror_mode": {
    "name": "ipython",
    "version": 3
   },
   "file_extension": ".py",
   "mimetype": "text/x-python",
   "name": "python",
   "nbconvert_exporter": "python",
   "pygments_lexer": "ipython3",
   "version": "3.6.13"
  }
 },
 "nbformat": 4,
 "nbformat_minor": 5
}
